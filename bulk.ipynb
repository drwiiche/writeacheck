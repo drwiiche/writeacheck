{
 "cells": [
  {
   "cell_type": "code",
   "execution_count": 5,
   "id": "b75e21ca",
   "metadata": {},
   "outputs": [],
   "source": [
    "from PIL import Image, ImageDraw, ImageFont\n",
    "import csv\n",
    "import os"
   ]
  },
  {
   "cell_type": "code",
   "execution_count": 61,
   "id": "c87d5eea",
   "metadata": {},
   "outputs": [],
   "source": [
    "csv_file = 'file.csv'\n",
    "font_path = 'RottedimSignature.otf'"
   ]
  },
  {
   "cell_type": "code",
   "execution_count": null,
   "id": "6482ce95",
   "metadata": {},
   "outputs": [],
   "source": []
  },
  {
   "cell_type": "code",
   "execution_count": 72,
   "id": "6d3039a7",
   "metadata": {},
   "outputs": [
    {
     "name": "stdout",
     "output_type": "stream",
     "text": [
      "Image check-1-dollars/check-1.png created successfully!\n",
      "All images created successfully!\n"
     ]
    }
   ],
   "source": [
    "with open(csv_file, 'r') as file:\n",
    "    csv_reader = csv.DictReader(file)\n",
    "    \n",
    "    # Loop through rows in the CSV file\n",
    "    for row in csv_reader:\n",
    "        name = row['name']\n",
    "        date = row['date']\n",
    "        number = row['number']\n",
    "        lktaba = row['lktaba']\n",
    "        memo = \"Birthday gift\"\n",
    "        Signature = \"Signature\"\n",
    "        \n",
    "        # Create a folder for each record\n",
    "        folder_name = f'check-{number}-dollars'\n",
    "        os.makedirs(folder_name, exist_ok=True)\n",
    "        \n",
    "        \n",
    "        # Load the base image\n",
    "        base_image = Image.open('check-main.png')\n",
    "        \n",
    "        # Add the date on the top corner\n",
    "        draw = ImageDraw.Draw(base_image)\n",
    "        custom_font = ImageFont.truetype(font_path, size=30) # Load the custom font with size\n",
    "        \n",
    "        # Fill the check with DATE and store it check-for-1-date.png\n",
    "        draw.text((890,115), date, fill='black', font=custom_font)\n",
    "        checkdate = f'{folder_name}/check-for-{number}-dollars-date.png'\n",
    "        base_image.save(checkdate)\n",
    "        \n",
    "        # Fill the check with Recepiant and store it check-for-1-Recepiant.png\n",
    "        custom_font_name = ImageFont.truetype(font_path, size=38)\n",
    "        draw.text((230,190), name.title(), fill='black', font=custom_font_name)\n",
    "        checkRecepiant = f'{folder_name}/check-for-{number}-dollars-Recepiant.png'\n",
    "        base_image.save(checkRecepiant)\n",
    "        \n",
    "        # Fill the check with Numerical Number and store it check-for-1-dollars-NumericalAmount.png\n",
    "        custom_font_NumericalAmount = ImageFont.truetype(font_path, size=38)\n",
    "        draw.text((1010,200), number, fill='black', font=custom_font_NumericalAmount)\n",
    "        checkNumericalAmount = f'{folder_name}/check-for-{number}-dollars-NumericalAmount.png'\n",
    "        base_image.save(checkNumericalAmount)\n",
    "        \n",
    "        \n",
    "        # Fill the check with Amount In words and store it check-for-1-date.png\n",
    "        custom_font_AmountInWords = ImageFont.truetype(font_path, size=38)\n",
    "        draw.text((200,295), lktaba, fill='black', font=custom_font_AmountInWords)\n",
    "        checkAmountInWords = f'{folder_name}/check-for-{number}-dollars-AmountInWords.png'\n",
    "        base_image.save(checkAmountInWords)\n",
    "        \n",
    "        \n",
    "         # Fill the check with Amount In words and store it check-for-1-date.png\n",
    "        custom_font_AmountInWords = ImageFont.truetype(font_path, size=38)\n",
    "        draw.text((200,450), memo.lower(), fill='black', font=custom_font_AmountInWords)\n",
    "        checkAmountInWords = f'{folder_name}/check-for-{number}-dollars-Memo.png'\n",
    "        base_image.save(checkAmountInWords)\n",
    "        \n",
    "        \n",
    "         # Fill the check with Amount In words and store it check-for-1-date.png\n",
    "        font_path_signature = 'Creattion.otf'\n",
    "        custom_font_AmountInWords = ImageFont.truetype(font_path_signature, size=88)\n",
    "        draw.text((890,430), Signature, fill='black', font=custom_font_AmountInWords)\n",
    "        checkAmountInWords = f'{folder_name}/check-for-{number}-dollars-Signed.png'\n",
    "        base_image.save(checkAmountInWords)\n",
    "        \n",
    "        \n",
    "        # Save the new image with a name format - check-name-date.png\n",
    "        # Save the new image inside the folder\n",
    "        #new_image_name = f'{folder_name}/check-{number}.png'\n",
    "        #base_image.save(new_image_name)\n",
    "        \n",
    "        print(f'Image {new_image_name} created successfully!')\n",
    "\n",
    "print('All images created successfully!')"
   ]
  },
  {
   "cell_type": "code",
   "execution_count": null,
   "id": "67b010e8",
   "metadata": {},
   "outputs": [],
   "source": []
  },
  {
   "cell_type": "code",
   "execution_count": null,
   "id": "dc1720c4",
   "metadata": {},
   "outputs": [],
   "source": [
    "Creattion.otf"
   ]
  }
 ],
 "metadata": {
  "kernelspec": {
   "display_name": "Python 3 (ipykernel)",
   "language": "python",
   "name": "python3"
  },
  "language_info": {
   "codemirror_mode": {
    "name": "ipython",
    "version": 3
   },
   "file_extension": ".py",
   "mimetype": "text/x-python",
   "name": "python",
   "nbconvert_exporter": "python",
   "pygments_lexer": "ipython3",
   "version": "3.11.5"
  }
 },
 "nbformat": 4,
 "nbformat_minor": 5
}
